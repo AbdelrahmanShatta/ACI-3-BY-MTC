version https://git-lfs.github.com/spec/v1
oid sha256:a9f56e9fde3c3fa2af6250435151e540615c4cdd422c0cc3c0e65ef922c3c9dc
size 115484
